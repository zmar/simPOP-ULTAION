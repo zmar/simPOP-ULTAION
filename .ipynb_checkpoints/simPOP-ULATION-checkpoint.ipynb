{
 "cells": [
  {
   "cell_type": "markdown",
   "metadata": {},
   "source": [
    "# simPop - symulowanie populacji"
   ]
  },
  {
   "cell_type": "markdown",
   "metadata": {},
   "source": [
    "## czyli krótka relacja z _eRum 2016_ - european R users meeting October 12-14, 2016 in Poznan, Poland"
   ]
  },
  {
   "cell_type": "markdown",
   "metadata": {},
   "source": [
    "Pełnen program eRum jest tutaj -> [(eRum BOOK OF ABSTRACTS)](boa.pdf). \n",
    "\n",
    "Myślę, że najciekawsza z naszego (socjologicznego) punktu widzenia była prezentacja dotycząca pakiety \"simPop\":\n",
    "\n",
    "__Dzień 3 konferencji__ | __14.10__\n",
    "-----------------------------|---------\n",
    "__Panel:__                   | __\"Invited Talks V\"__\n",
    "__Prezentacja:__             | __\"Simulation of complex synthetic data with the R package simPop\"__\n",
    "__Wygłosił: __               | __Matthias Templ, Vienna University of Technology__\n",
    "\n",
    "\"simPop\" służy do generowania populaji na podstawie zadanych rozkładów zmiennych / wyników sondaży.\n",
    "\n",
    "Poniżej prezentacja kilku dostępnych opcji."
   ]
  },
  {
   "cell_type": "markdown",
   "metadata": {},
   "source": [
    "## Ładowanie pakietu simPop"
   ]
  },
  {
   "cell_type": "markdown",
   "metadata": {},
   "source": [
    "Autorzy projektu (generalnie panowie z Wiednia): \n",
    "\n",
    "Bernhard Meindl, Matthias Templ, Andreas Alfons, Alexander Kowarik, and with contributions from Mathieu Ribatet (2016). simPop: Simulation of Synthetic Populations for Survey Data Considering Auxiliary Information. R package version 0.3.0. URL http://CRAN.R-project.org/package=simPop. "
   ]
  },
  {
   "cell_type": "code",
   "execution_count": 2,
   "metadata": {
    "collapsed": false
   },
   "outputs": [
    {
     "name": "stderr",
     "output_type": "stream",
     "text": [
      "Warning message:\n",
      "\"package 'simPop' was built under R version 3.3.1\"Loading required package: lattice\n",
      "Loading required package: vcd\n",
      "Warning message:\n",
      "\"package 'vcd' was built under R version 3.3.1\"Loading required package: grid\n",
      "Loading required package: data.table\n",
      "Warning message:\n",
      "\"package 'data.table' was built under R version 3.3.1\"Package simPop 0.3.0 has been loaded!\n",
      "\n"
     ]
    }
   ],
   "source": [
    "library(\"simPop\") "
   ]
  },
  {
   "cell_type": "markdown",
   "metadata": {},
   "source": [
    "## Ładowanie zbioru danych '*eusilcS*' z pakietu simPop "
   ]
  },
  {
   "cell_type": "code",
   "execution_count": 29,
   "metadata": {
    "collapsed": false
   },
   "outputs": [],
   "source": [
    "data(\"eusilcS\") # Synthetic EU-SILC survey data"
   ]
  },
  {
   "cell_type": "markdown",
   "metadata": {},
   "source": [
    "Dane ze zbioru __*eusilcS*__:"
   ]
  },
  {
   "cell_type": "code",
   "execution_count": 28,
   "metadata": {
    "collapsed": false
   },
   "outputs": [
    {
     "data": {
      "text/html": [
       "<table>\n",
       "<thead><tr><th></th><th scope=col>db030</th><th scope=col>hsize</th><th scope=col>db040</th><th scope=col>age</th><th scope=col>rb090</th><th scope=col>pl030</th><th scope=col>pb220a</th><th scope=col>netIncome</th><th scope=col>py010n</th><th scope=col>py050n</th><th scope=col>py090n</th><th scope=col>py100n</th><th scope=col>py110n</th><th scope=col>py120n</th><th scope=col>py130n</th><th scope=col>py140n</th><th scope=col>db090</th><th scope=col>rb050</th></tr></thead>\n",
       "<tbody>\n",
       "\t<tr><th scope=row>9292</th><td>1            </td><td>2            </td><td>Salzburg     </td><td>72           </td><td>male         </td><td>5            </td><td>AT           </td><td>22675.48     </td><td>    0.00     </td><td>0            </td><td>0            </td><td>22675.48     </td><td>0            </td><td>0            </td><td>    0.00     </td><td>0            </td><td>7.822929     </td><td>7.822929     </td></tr>\n",
       "\t<tr><th scope=row>9293</th><td>1            </td><td>2            </td><td>Salzburg     </td><td>66           </td><td>female       </td><td>5            </td><td>AT           </td><td>16999.29     </td><td>    0.00     </td><td>0            </td><td>0            </td><td>    0.00     </td><td>0            </td><td>0            </td><td>16999.29     </td><td>0            </td><td>7.822929     </td><td>7.822929     </td></tr>\n",
       "\t<tr><th scope=row>7227</th><td>2            </td><td>1            </td><td>Upper Austria</td><td>56           </td><td>female       </td><td>2            </td><td>AT           </td><td>19274.21     </td><td>19274.21     </td><td>0            </td><td>0            </td><td>    0.00     </td><td>0            </td><td>0            </td><td>    0.00     </td><td>0            </td><td>8.788089     </td><td>8.788089     </td></tr>\n",
       "\t<tr><th scope=row>5275</th><td>3            </td><td>1            </td><td>Styria       </td><td>67           </td><td>female       </td><td>5            </td><td>AT           </td><td>13319.13     </td><td>    0.00     </td><td>0            </td><td>0            </td><td>13319.13     </td><td>0            </td><td>0            </td><td>    0.00     </td><td>0            </td><td>8.108452     </td><td>8.108452     </td></tr>\n",
       "\t<tr><th scope=row>7866</th><td>4            </td><td>3            </td><td>Upper Austria</td><td>70           </td><td>female       </td><td>5            </td><td>AT           </td><td>14365.57     </td><td>    0.00     </td><td>0            </td><td>0            </td><td>14365.57     </td><td>0            </td><td>0            </td><td>    0.00     </td><td>0            </td><td>7.509383     </td><td>7.509383     </td></tr>\n",
       "\t<tr><th scope=row>7867</th><td>4            </td><td>3            </td><td>Upper Austria</td><td>46           </td><td>male         </td><td>3            </td><td>AT           </td><td>    0.00     </td><td>    0.00     </td><td>0            </td><td>0            </td><td>    0.00     </td><td>0            </td><td>0            </td><td>    0.00     </td><td>0            </td><td>7.509383     </td><td>7.509383     </td></tr>\n",
       "</tbody>\n",
       "</table>\n"
      ],
      "text/latex": [
       "\\begin{tabular}{r|llllllllllllllllll}\n",
       "  & db030 & hsize & db040 & age & rb090 & pl030 & pb220a & netIncome & py010n & py050n & py090n & py100n & py110n & py120n & py130n & py140n & db090 & rb050\\\\\n",
       "\\hline\n",
       "\t9292 & 1             & 2             & Salzburg      & 72            & male          & 5             & AT            & 22675.48      &     0.00      & 0             & 0             & 22675.48      & 0             & 0             &     0.00      & 0             & 7.822929      & 7.822929     \\\\\n",
       "\t9293 & 1             & 2             & Salzburg      & 66            & female        & 5             & AT            & 16999.29      &     0.00      & 0             & 0             &     0.00      & 0             & 0             & 16999.29      & 0             & 7.822929      & 7.822929     \\\\\n",
       "\t7227 & 2             & 1             & Upper Austria & 56            & female        & 2             & AT            & 19274.21      & 19274.21      & 0             & 0             &     0.00      & 0             & 0             &     0.00      & 0             & 8.788089      & 8.788089     \\\\\n",
       "\t5275 & 3             & 1             & Styria        & 67            & female        & 5             & AT            & 13319.13      &     0.00      & 0             & 0             & 13319.13      & 0             & 0             &     0.00      & 0             & 8.108452      & 8.108452     \\\\\n",
       "\t7866 & 4             & 3             & Upper Austria & 70            & female        & 5             & AT            & 14365.57      &     0.00      & 0             & 0             & 14365.57      & 0             & 0             &     0.00      & 0             & 7.509383      & 7.509383     \\\\\n",
       "\t7867 & 4             & 3             & Upper Austria & 46            & male          & 3             & AT            &     0.00      &     0.00      & 0             & 0             &     0.00      & 0             & 0             &     0.00      & 0             & 7.509383      & 7.509383     \\\\\n",
       "\\end{tabular}\n"
      ],
      "text/plain": [
       "     db030 hsize db040         age rb090  pl030 pb220a netIncome py010n  \n",
       "9292 1     2     Salzburg      72  male   5     AT     22675.48      0.00\n",
       "9293 1     2     Salzburg      66  female 5     AT     16999.29      0.00\n",
       "7227 2     1     Upper Austria 56  female 2     AT     19274.21  19274.21\n",
       "5275 3     1     Styria        67  female 5     AT     13319.13      0.00\n",
       "7866 4     3     Upper Austria 70  female 5     AT     14365.57      0.00\n",
       "7867 4     3     Upper Austria 46  male   3     AT         0.00      0.00\n",
       "     py050n py090n py100n   py110n py120n py130n   py140n db090    rb050   \n",
       "9292 0      0      22675.48 0      0          0.00 0      7.822929 7.822929\n",
       "9293 0      0          0.00 0      0      16999.29 0      7.822929 7.822929\n",
       "7227 0      0          0.00 0      0          0.00 0      8.788089 8.788089\n",
       "5275 0      0      13319.13 0      0          0.00 0      8.108452 8.108452\n",
       "7866 0      0      14365.57 0      0          0.00 0      7.509383 7.509383\n",
       "7867 0      0          0.00 0      0          0.00 0      7.509383 7.509383"
      ]
     },
     "metadata": {},
     "output_type": "display_data"
    }
   ],
   "source": [
    "head( eusilcS)"
   ]
  },
  {
   "cell_type": "markdown",
   "metadata": {},
   "source": [
    "## Generowanie obiektu  klasy ’_dataObj_’ - dane wsadowe\n",
    "\n",
    "Obiekty klasy  __’_dataObj_’ służą do przechowywani danych wsadowych (samych rozkładów brzegowych albo całych prób z sondaży)__, które mają poslużyć __do generowania populacji__. W poniższym przykładzie dane wsadowe to dane z badania ankietowego - zbiór __*eusilcS*__ .Na jego podstawie wygenerowana zostanie populacji.\n",
    "\n",
    "Do generowania populacji użyta zostanie funkcja __*specifyInput*__. Objaśnienie argumentów funkcji:\n",
    "\n",
    "    * hhid - nazwa zmienne w zbiorze oznaczająca numer identyfikacyjny obserwacji;\n",
    "    * weight - nazwa wagi w zbiorze;\n",
    "    * strata - nazwa zmiennej oznaczającej warstwy."
   ]
  },
  {
   "cell_type": "code",
   "execution_count": 30,
   "metadata": {
    "collapsed": false
   },
   "outputs": [
    {
     "data": {
      "text/html": [
       "'dataObj'"
      ],
      "text/latex": [
       "'dataObj'"
      ],
      "text/markdown": [
       "'dataObj'"
      ],
      "text/plain": [
       "[1] \"dataObj\"\n",
       "attr(,\"package\")\n",
       "[1] \"simPop\""
      ]
     },
     "metadata": {},
     "output_type": "display_data"
    }
   ],
   "source": [
    "inp <- specifyInput(data=eusilcS, hhid=\"db030\", weight=\"rb050\", strata=\"db040\")\n",
    "class(inp)"
   ]
  },
  {
   "cell_type": "code",
   "execution_count": 31,
   "metadata": {
    "collapsed": false
   },
   "outputs": [
    {
     "data": {
      "text/plain": [
       "\n",
       " -------------- \n",
       "survey sample of size 11725 x 20 \n",
       "\n",
       " Selected important variables: \n",
       "\n",
       " household ID: db030\n",
       " personal ID: pid\n",
       " variable household size: hhsize\n",
       " sampling weight: rb050\n",
       " strata: db040\n",
       " -------------- \n"
      ]
     },
     "metadata": {},
     "output_type": "display_data"
    }
   ],
   "source": [
    "inp"
   ]
  },
  {
   "cell_type": "markdown",
   "metadata": {},
   "source": [
    "## Generowanie populacji na podstawie danych wsadowych\n",
    "\n",
    "Dane wsatdowe w tym przypadku to zbiór __*inp* ale równie dobrze mogą to być same rozkłady brzegowe__.\n",
    "\n",
    "Popilację generuje się przy pomocy funkcji __*simStructure*__. Opis użytych argumentów:\n",
    "    \n",
    "   * data - dane wsadowe klasy 'dataObj'\n",
    "   * method - metoda symulacji: \n",
    "       + \"direct\" (estimation of the population totals for each combination of stratum and household size using the Horvitz-Thompson estimator)\n",
    "       + \"multinom\" (estimation of the conditional probabilities within the strata using a multinomial log-linear model and random draws from the result-ing distributions)\n",
    "       + \"distribution\" (random draws from the observed conditional distributions within the strata)\n",
    "   * basicHHvars - nazwy zmiennych, które mają się znaleźć w zbiorze wynikowym"
   ]
  },
  {
   "cell_type": "code",
   "execution_count": 32,
   "metadata": {
    "collapsed": false
   },
   "outputs": [
    {
     "data": {
      "text/html": [
       "'simPopObj'"
      ],
      "text/latex": [
       "'simPopObj'"
      ],
      "text/markdown": [
       "'simPopObj'"
      ],
      "text/plain": [
       "[1] \"simPopObj\"\n",
       "attr(,\"package\")\n",
       "[1] \"simPop\""
      ]
     },
     "metadata": {},
     "output_type": "display_data"
    },
    {
     "data": {
      "text/plain": [
       "\n",
       "-------------- \n",
       "synthetic population  of size \n",
       " 81838 x 8 \n",
       "\n",
       "build from a sample of size \n",
       "11725 x 20\n",
       "-------------- \n",
       "\n",
       "variables in the population:\n",
       "db030,hhsize,db040,age,rb090,netIncome,pid,weight"
      ]
     },
     "metadata": {},
     "output_type": "display_data"
    }
   ],
   "source": [
    "eusilcP <- simStructure(data=inp, method=\"direct\", basicHHvars=c(\"age\", \"rb090\", \"netIncome\"))\n",
    "class(eusilcP)\n",
    "eusilcP"
   ]
  },
  {
   "cell_type": "markdown",
   "metadata": {},
   "source": [
    "## Prezentacja wyników przy pomocy funkcji '*spBwplot*'\n",
    "\n",
    "Argumenty funkcji '__*spBwplot*__':\n",
    "   \n",
    "   * inp - obiekt klasy 'simPopObj'\n",
    "   * x - nazwa zmiennej która ma zostać zaprezentowana\n",
    "   * cond - opcjonalnie nazwa zmiennej względem której ma zostać utworzony wykres warunkowy.\n",
    "   "
   ]
  },
  {
   "cell_type": "code",
   "execution_count": 40,
   "metadata": {
    "collapsed": false
   },
   "outputs": [
    {
     "data": {},
     "metadata": {},
     "output_type": "display_data"
    },
    {
     "data": {},
     "metadata": {},
     "output_type": "display_data"
    },
    {
     "data": {
      "image/png": "[encoded data removed]",
      "text/plain": [
       "plot without title"
      ]
     },
     "metadata": {},
     "output_type": "display_data"
    },
    {
     "data": {
      "image/png": "[encoded data removed]",
      "text/plain": [
       "plot without title"
      ]
     },
     "metadata": {},
     "output_type": "display_data"
    }
   ],
   "source": [
    "spBwplot(eusilcP, x=\"netIncome\", cond=NULL)\n",
    "spBwplot(eusilcP, x=\"netIncome\", cond=\"rb090\", layout=c(1,2))"
   ]
  },
  {
   "cell_type": "markdown",
   "metadata": {},
   "source": [
    "## Podsumowanie\n",
    "\n",
    "__*simPop*__ wydaje się dosyć ograniczony. Może to wynika z mojego niezrozumienia tego pakietu ale wyobrażałem sobie to trochę inaczej. Miałem nadzieję, że simPop będzie pozwalał bardziej swobodnie manipulować wynikową populacją. Nie rozumiem po co stworzono specjalną klasę obiektów simPopObj - to niepotrzebna komplikacja. Jeśli okaże się, że simPop rzeczywiście pozwala generować populacje o dowolnych cechach to super - tego potrzebowaliśmy. W przeciwnym wypadku będzie to piękny przykład marnotrawienia funduszy grantowych na budowanie nikomu nieprzydatnych pakietów."
   ]
  }
 ],
 "metadata": {
  "kernelspec": {
   "display_name": "R",
   "language": "R",
   "name": "ir"
  },
  "language_info": {
   "codemirror_mode": "r",
   "file_extension": ".r",
   "mimetype": "text/x-r-source",
   "name": "R",
   "pygments_lexer": "r",
   "version": "3.3.0"
  }
 },
 "nbformat": 4,
 "nbformat_minor": 0
}
